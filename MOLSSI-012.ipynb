{
 "cells": [
  {
   "cell_type": "markdown",
   "id": "9d5b1423",
   "metadata": {},
   "source": [
    "# MolSSI Workshop\n",
    "## Introduction\n",
    "\n",
    "This lesson covers Python basics like variable creation and assignment and using the Jupyter notebook"
   ]
  },
  {
   "cell_type": "code",
   "execution_count": 1,
   "id": "9d7543a3",
   "metadata": {},
   "outputs": [
    {
     "data": {
      "text/plain": [
       "10"
      ]
     },
     "execution_count": 1,
     "metadata": {},
     "output_type": "execute_result"
    }
   ],
   "source": [
    "3+7"
   ]
  },
  {
   "cell_type": "code",
   "execution_count": 2,
   "id": "22a354ef",
   "metadata": {},
   "outputs": [],
   "source": [
    "deltaH = -541.5   #kJ/mole\n",
    "deltaS =  10.4     #kJ/(mole K)\n",
    "temp = 298      #Kelvin\n",
    "deltaG = deltaH - temp * deltaS"
   ]
  },
  {
   "cell_type": "code",
   "execution_count": 3,
   "id": "e99df561",
   "metadata": {},
   "outputs": [
    {
     "name": "stdout",
     "output_type": "stream",
     "text": [
      "-3640.7000000000003\n"
     ]
    }
   ],
   "source": [
    "print(deltaG)"
   ]
  },
  {
   "cell_type": "code",
   "execution_count": 4,
   "id": "39dfa6f6",
   "metadata": {},
   "outputs": [
    {
     "name": "stdout",
     "output_type": "stream",
     "text": [
      "-3640.7000000000003\n",
      "-3640.7000000000003\n"
     ]
    }
   ],
   "source": [
    "print(deltaG)\n",
    "deltaG * 1000\n",
    "print(deltaG)"
   ]
  },
  {
   "cell_type": "code",
   "execution_count": 5,
   "id": "d624e4cd",
   "metadata": {},
   "outputs": [
    {
     "name": "stdout",
     "output_type": "stream",
     "text": [
      "-3640.7000000000003\n",
      "-3640700.0000000005\n"
     ]
    }
   ],
   "source": [
    "print(deltaG)\n",
    "deltaG = deltaG * 1000\n",
    "print(deltaG)"
   ]
  },
  {
   "cell_type": "code",
   "execution_count": 6,
   "id": "768322cf",
   "metadata": {},
   "outputs": [
    {
     "name": "stdout",
     "output_type": "stream",
     "text": [
      "-3640700.0000000005\n",
      "-3640700.0000000005\n",
      "-3640700000.0000005\n"
     ]
    }
   ],
   "source": [
    "print(deltaG)\n",
    "deltaG_joules = deltaG * 1000\n",
    "print(deltaG)\n",
    "print(deltaG_joules)"
   ]
  },
  {
   "cell_type": "code",
   "execution_count": 7,
   "id": "173ff41c",
   "metadata": {},
   "outputs": [
    {
     "name": "stdout",
     "output_type": "stream",
     "text": [
      "-3640.7000000000003\n"
     ]
    }
   ],
   "source": [
    "#I can assign all these variables at once\n",
    "deltaH, deltaS, temp = -541.5, 10.4, 298\n",
    "deltaG = deltaH - temp * deltaS\n",
    "print(deltaG)"
   ]
  },
  {
   "cell_type": "code",
   "execution_count": 8,
   "id": "1210481a",
   "metadata": {},
   "outputs": [
    {
     "data": {
      "text/plain": [
       "float"
      ]
     },
     "execution_count": 8,
     "metadata": {},
     "output_type": "execute_result"
    }
   ],
   "source": [
    "type(deltaG)"
   ]
  },
  {
   "cell_type": "code",
   "execution_count": 9,
   "id": "fa5baaf4",
   "metadata": {},
   "outputs": [
    {
     "data": {
      "text/plain": [
       "str"
      ]
     },
     "execution_count": 9,
     "metadata": {},
     "output_type": "execute_result"
    }
   ],
   "source": [
    "deltaG_string = str(deltaG)\n",
    "type(deltaG_string)"
   ]
  },
  {
   "cell_type": "code",
   "execution_count": 10,
   "id": "d7eaaf5a",
   "metadata": {},
   "outputs": [
    {
     "name": "stdout",
     "output_type": "stream",
     "text": [
      "The length of this list is 4\n"
     ]
    }
   ],
   "source": [
    "# This is a list\n",
    "energy_kcal = [-13.4, -2.7, 5.4, 42.1]\n",
    "# I can determine its length\n",
    "energy_length = len(energy_kcal)\n",
    "\n",
    "# print the list length\n",
    "print('The length of this list is', energy_length)"
   ]
  },
  {
   "cell_type": "code",
   "execution_count": 11,
   "id": "87607503",
   "metadata": {},
   "outputs": [
    {
     "name": "stdout",
     "output_type": "stream",
     "text": [
      "-13.4\n"
     ]
    }
   ],
   "source": [
    "# Print the first element of the list\n",
    "print(energy_kcal[0])"
   ]
  },
  {
   "cell_type": "code",
   "execution_count": 12,
   "id": "1d44c015",
   "metadata": {},
   "outputs": [
    {
     "name": "stdout",
     "output_type": "stream",
     "text": [
      "-11.296800000000001\n"
     ]
    }
   ],
   "source": [
    "# Convert the second list element to kilojoules.\n",
    "energy_kilojoules = energy_kcal[1] * 4.184\n",
    "print(energy_kilojoules)"
   ]
  },
  {
   "cell_type": "code",
   "execution_count": 13,
   "id": "338121fa",
   "metadata": {},
   "outputs": [],
   "source": [
    "short_list = energy_kcal[0:2]"
   ]
  },
  {
   "cell_type": "code",
   "execution_count": 14,
   "id": "f1e7c47a",
   "metadata": {},
   "outputs": [
    {
     "name": "stdout",
     "output_type": "stream",
     "text": [
      "[-13.4, -2.7]\n"
     ]
    }
   ],
   "source": [
    "print(short_list)"
   ]
  },
  {
   "cell_type": "code",
   "execution_count": 15,
   "id": "18ac4f52",
   "metadata": {},
   "outputs": [
    {
     "name": "stdout",
     "output_type": "stream",
     "text": [
      "slice1 is [-2.7, 5.4, 42.1]\n",
      "slice2 is [-13.4, -2.7, 5.4]\n"
     ]
    }
   ],
   "source": [
    "slice1 = energy_kcal[1:]\n",
    "slice2 = energy_kcal[:3]\n",
    "print('slice1 is', slice1)\n",
    "print('slice2 is', slice2)"
   ]
  },
  {
   "cell_type": "code",
   "execution_count": 16,
   "id": "d5ba04b9",
   "metadata": {},
   "outputs": [
    {
     "name": "stdout",
     "output_type": "stream",
     "text": [
      "[-13.4, -2.7, 5.4, 42.1]\n",
      "[-13.4, -2.7, 5.4, 42.1]\n"
     ]
    }
   ],
   "source": [
    "print(energy_kcal)\n",
    "energy_kcal[0:2]\n",
    "print(energy_kcal)"
   ]
  },
  {
   "cell_type": "code",
   "execution_count": 17,
   "id": "4c74f921",
   "metadata": {},
   "outputs": [
    {
     "name": "stdout",
     "output_type": "stream",
     "text": [
      "-56.0656\n",
      "-11.296800000000001\n",
      "22.593600000000002\n",
      "176.1464\n"
     ]
    }
   ],
   "source": [
    "for number in energy_kcal:\n",
    "    kJ = number * 4.184\n",
    "    print(kJ)"
   ]
  },
  {
   "cell_type": "code",
   "execution_count": 18,
   "id": "55504aab",
   "metadata": {},
   "outputs": [
    {
     "ename": "NameError",
     "evalue": "name 'energy_kJ' is not defined",
     "output_type": "error",
     "traceback": [
      "\u001b[0;31m---------------------------------------------------------------------------\u001b[0m",
      "\u001b[0;31mNameError\u001b[0m                                 Traceback (most recent call last)",
      "\u001b[0;32m<ipython-input-18-cf71094e03da>\u001b[0m in \u001b[0;36m<module>\u001b[0;34m\u001b[0m\n\u001b[1;32m      1\u001b[0m \u001b[0;32mfor\u001b[0m \u001b[0mnumber\u001b[0m \u001b[0;32min\u001b[0m \u001b[0menergy_kcal\u001b[0m\u001b[0;34m:\u001b[0m\u001b[0;34m\u001b[0m\u001b[0;34m\u001b[0m\u001b[0m\n\u001b[1;32m      2\u001b[0m     \u001b[0mkJ\u001b[0m \u001b[0;34m=\u001b[0m \u001b[0mnumber\u001b[0m \u001b[0;34m*\u001b[0m \u001b[0;36m4.184\u001b[0m\u001b[0;34m\u001b[0m\u001b[0;34m\u001b[0m\u001b[0m\n\u001b[0;32m----> 3\u001b[0;31m     \u001b[0menergy_kJ\u001b[0m\u001b[0;34m.\u001b[0m\u001b[0mappend\u001b[0m\u001b[0;34m(\u001b[0m\u001b[0mkJ\u001b[0m\u001b[0;34m)\u001b[0m\u001b[0;34m\u001b[0m\u001b[0;34m\u001b[0m\u001b[0m\n\u001b[0m\u001b[1;32m      4\u001b[0m \u001b[0;34m\u001b[0m\u001b[0m\n\u001b[1;32m      5\u001b[0m \u001b[0mprint\u001b[0m\u001b[0;34m(\u001b[0m\u001b[0menergy_kJ\u001b[0m\u001b[0;34m)\u001b[0m\u001b[0;34m\u001b[0m\u001b[0;34m\u001b[0m\u001b[0m\n",
      "\u001b[0;31mNameError\u001b[0m: name 'energy_kJ' is not defined"
     ]
    }
   ],
   "source": [
    "for number in energy_kcal:\n",
    "    kJ = number * 4.184\n",
    "    energy_kJ.append(kJ)\n",
    "\n",
    "print(energy_kJ)"
   ]
  },
  {
   "cell_type": "code",
   "execution_count": 19,
   "id": "4bf811d4",
   "metadata": {},
   "outputs": [
    {
     "name": "stdout",
     "output_type": "stream",
     "text": [
      "[-56.0656, -11.296800000000001, 22.593600000000002, 176.1464]\n"
     ]
    }
   ],
   "source": [
    "energy_kJ = []\n",
    "for number in energy_kcal:\n",
    "    kJ = number * 4.184\n",
    "    energy_kJ.append(kJ)\n",
    "\n",
    "print(energy_kJ)"
   ]
  },
  {
   "cell_type": "code",
   "execution_count": 20,
   "id": "02b06b8e",
   "metadata": {},
   "outputs": [
    {
     "name": "stdout",
     "output_type": "stream",
     "text": [
      "[-56.0656, -11.296800000000001]\n"
     ]
    }
   ],
   "source": [
    "negative_energy_kJ = []\n",
    "\n",
    "for number in energy_kJ:\n",
    "    if number < 0:\n",
    "        negative_energy_kJ.append(number)\n",
    "\n",
    "print(negative_energy_kJ)"
   ]
  },
  {
   "cell_type": "code",
   "execution_count": 21,
   "id": "badbad78",
   "metadata": {},
   "outputs": [
    {
     "name": "stdout",
     "output_type": "stream",
     "text": [
      "[-56.0656, -11.296800000000001]\n"
     ]
    }
   ],
   "source": [
    "negative_numbers = []\n",
    "for number in energy_kJ:\n",
    "    if number < 0 or number == 0:\n",
    "        negative_numbers.append(number)\n",
    "\n",
    "print(negative_numbers)"
   ]
  },
  {
   "cell_type": "code",
   "execution_count": 22,
   "id": "ccf6bf88",
   "metadata": {},
   "outputs": [],
   "source": [
    "data_list = ['-12.5', 14.4, 8.1, '42']"
   ]
  },
  {
   "cell_type": "markdown",
   "id": "ed230abc",
   "metadata": {},
   "source": [
    "Set up a for loop to go over each element of data_list. If the element is a string (str), recast it as a float. Save all of the numbers to a new list called number_list. Pay close attention to your indentation!"
   ]
  },
  {
   "cell_type": "code",
   "execution_count": 23,
   "id": "6627eb71",
   "metadata": {},
   "outputs": [
    {
     "name": "stdout",
     "output_type": "stream",
     "text": [
      "[-12.5, 14.4, 8.1, 42.0]\n"
     ]
    }
   ],
   "source": [
    "data_list = ['-12.5', 14.4, 8.1, '42']\n",
    "number_list = []\n",
    "for item in data_list:\n",
    "    if type(item) is str:\n",
    "        item = float(item)\n",
    "    number_list.append(item)\n",
    "\n",
    "print(number_list)"
   ]
  },
  {
   "cell_type": "code",
   "execution_count": 24,
   "id": "c7593546",
   "metadata": {},
   "outputs": [
    {
     "name": "stdout",
     "output_type": "stream",
     "text": [
      "\u001b[31m03_Prod.mdout\u001b[m\u001b[m*             \u001b[31mdistance_data_headers.csv\u001b[m\u001b[m*\r\n",
      "May27.ipynb                \u001b[34moutfiles\u001b[m\u001b[m/\r\n",
      "\u001b[31mbenzene.xyz\u001b[m\u001b[m*               \u001b[31msapt.out\u001b[m\u001b[m*\r\n",
      "\u001b[31mbuckminsterfullerene.xyz\u001b[m\u001b[m*  \u001b[31mwater.xyz\u001b[m\u001b[m*\r\n"
     ]
    }
   ],
   "source": [
    "ls data"
   ]
  },
  {
   "cell_type": "code",
   "execution_count": 25,
   "id": "a77cfaf2",
   "metadata": {},
   "outputs": [
    {
     "data": {
      "text/plain": [
       "'/Users/paz/Desktop/cms-workshop'"
      ]
     },
     "execution_count": 25,
     "metadata": {},
     "output_type": "execute_result"
    }
   ],
   "source": [
    "pwd"
   ]
  },
  {
   "cell_type": "code",
   "execution_count": 26,
   "id": "6e98fdef",
   "metadata": {},
   "outputs": [
    {
     "name": "stdout",
     "output_type": "stream",
     "text": [
      "data/outfiles/ethanol.out\n"
     ]
    }
   ],
   "source": [
    "import os\n",
    "\n",
    "ethanol_file = os.path.join('data', 'outfiles', 'ethanol.out')\n",
    "print(ethanol_file)"
   ]
  },
  {
   "cell_type": "code",
   "execution_count": 27,
   "id": "e1132b9e",
   "metadata": {},
   "outputs": [],
   "source": [
    "outfile = open(ethanol_file,\"r\")\n",
    "data = outfile.readlines()"
   ]
  },
  {
   "cell_type": "code",
   "execution_count": 28,
   "id": "0c22310a",
   "metadata": {},
   "outputs": [],
   "source": [
    "outfile.close()"
   ]
  },
  {
   "cell_type": "code",
   "execution_count": 29,
   "id": "776914fc",
   "metadata": {},
   "outputs": [],
   "source": [
    "with open(ethanol_file,\"r\") as outfile:\n",
    "    data = outfile.readlines()"
   ]
  },
  {
   "cell_type": "code",
   "execution_count": 30,
   "id": "6e5477a3",
   "metadata": {},
   "outputs": [
    {
     "name": "stdout",
     "output_type": "stream",
     "text": [
      "270\n"
     ]
    }
   ],
   "source": [
    "print(len(data))"
   ]
  },
  {
   "cell_type": "code",
   "execution_count": 31,
   "id": "cc202400",
   "metadata": {},
   "outputs": [
    {
     "name": "stdout",
     "output_type": "stream",
     "text": [
      "\n",
      "\n",
      "    -----------------------------------------------------------------------\n",
      "\n",
      "          Psi4: An Open-Source Ab Initio Electronic Structure Package\n",
      "\n",
      "                               Psi4 1.1 release\n",
      "\n",
      "\n",
      "\n",
      "                         Git: Rev {HEAD} add49b9 \n",
      "\n",
      "\n",
      "\n",
      "\n",
      "\n",
      "    R. M. Parrish, L. A. Burns, D. G. A. Smith, A. C. Simmonett,\n",
      "\n",
      "    A. E. DePrince III, E. G. Hohenstein, U. Bozkaya, A. Yu. Sokolov,\n",
      "\n",
      "    R. Di Remigio, R. M. Richard, J. F. Gonthier, A. M. James,\n",
      "\n",
      "    H. R. McAlexander, A. Kumar, M. Saitow, X. Wang, B. P. Pritchard,\n",
      "\n",
      "    P. Verma, H. F. Schaefer III, K. Patkowski, R. A. King, E. F. Valeev,\n",
      "\n",
      "    F. A. Evangelista, J. M. Turney, T. D. Crawford, and C. D. Sherrill,\n",
      "\n",
      "    J. Chem. Theory Comput. in press (2017).\n",
      "\n",
      "    (doi: 10.1021/acs.jctc.7b00174)\n",
      "\n",
      "\n",
      "\n",
      "    -----------------------------------------------------------------------\n",
      "\n",
      "\n",
      "\n",
      "\n",
      "\n",
      "    Psi4 started on: Tuesday, 27 June 2017 12:10PM\n",
      "\n",
      "\n",
      "\n",
      "    Process ID:  10591\n",
      "\n",
      "    PSIDATADIR: /Users/armcdona/psi4conda/share/psi4\n",
      "\n",
      "    Memory:     500.0 MiB\n",
      "\n",
      "    Threads:    1\n",
      "\n",
      "    \n",
      "\n",
      "  ==> Input File <==\n",
      "\n",
      "\n",
      "\n",
      "--------------------------------------------------------------------------\n",
      "\n",
      "#! You can write anything you want; this is a test\n",
      "\n",
      "\n",
      "\n",
      "molecule ethanol {\n",
      "\n",
      "H        0.011242      0.005860      0.004848\n",
      "\n",
      "C       -0.013516     -0.004055      1.099557\n",
      "\n",
      "H        1.026838      0.005859      1.441119\n",
      "\n",
      "H       -0.508712      0.905913      1.449714\n",
      "\n",
      "C       -0.729377     -1.238026      1.605747\n",
      "\n",
      "H       -1.761756     -1.258491      1.244036\n",
      "\n",
      "H       -0.732480     -1.258491      2.699654\n",
      "\n",
      "O       -0.054692     -2.392519      1.128673\n",
      "\n",
      "H       -0.536299     -3.165575      1.469220\n",
      "\n",
      "}\n",
      "\n",
      "\n",
      "\n",
      "set basis cc-pVDZ\n",
      "\n",
      "energy('scf')--------------------------------------------------------------------------\n",
      "\n",
      "\n",
      "\n",
      "*** tstart() called on csm-armcdona-m1\n",
      "\n",
      "*** at Tue Jun 27 12:10:00 2017\n",
      "\n",
      "\n",
      "\n",
      "   => Loading Basis Set <=\n",
      "\n",
      "\n",
      "\n",
      "    Name: CC-PVDZ\n",
      "\n",
      "    Role: ORBITAL\n",
      "\n",
      "    Keyword: BASIS\n",
      "\n",
      "    atoms 1, 3-4, 6-7, 9 entry H          line    20 file /Users/armcdona/psi4conda/share/psi4/basis/cc-pvdz.gbs \n",
      "\n",
      "    atoms 2, 5           entry C          line   130 file /Users/armcdona/psi4conda/share/psi4/basis/cc-pvdz.gbs \n",
      "\n",
      "    atoms 8              entry O          line   190 file /Users/armcdona/psi4conda/share/psi4/basis/cc-pvdz.gbs \n",
      "\n",
      "\n",
      "\n",
      "    There are an even number of electrons - assuming singlet.\n",
      "\n",
      "    Specify the multiplicity in the molecule input block.\n",
      "\n",
      "\n",
      "\n",
      "\n",
      "\n",
      "         ---------------------------------------------------------\n",
      "\n",
      "                                   SCF\n",
      "\n",
      "            by Justin Turney, Rob Parrish, and Andy Simmonett\n",
      "\n",
      "                              RHF Reference\n",
      "\n",
      "                        1 Threads,    500 MiB Core\n",
      "\n",
      "         ---------------------------------------------------------\n",
      "\n",
      "\n",
      "\n",
      "  ==> Geometry <==\n",
      "\n",
      "\n",
      "\n",
      "    Molecular point group: c1\n",
      "\n",
      "    Full point group: C1\n",
      "\n",
      "\n",
      "\n",
      "    Geometry (in Angstrom), charge = 0, multiplicity = 1:\n",
      "\n",
      "\n",
      "\n",
      "       Center              X                  Y                   Z               Mass       \n",
      "\n",
      "    ------------   -----------------  -----------------  -----------------  -----------------\n",
      "\n",
      "           H          0.278612764252     1.265047047666    -1.274211449480     1.007825032070\n",
      "\n",
      "           C          0.253854764252     1.255132047666    -0.179502449480    12.000000000000\n",
      "\n",
      "           H          1.294208764252     1.265046047666     0.162059550520     1.007825032070\n",
      "\n",
      "           H         -0.241341235748     2.165100047666     0.170654550520     1.007825032070\n",
      "\n",
      "           C         -0.462006235748     0.021161047666     0.326687550520    12.000000000000\n",
      "\n",
      "           H         -1.494385235748     0.000696047666    -0.035023449480     1.007825032070\n",
      "\n",
      "           H         -0.465109235748     0.000696047666     1.420594550520     1.007825032070\n",
      "\n",
      "           O          0.212678764252    -1.133331952334    -0.150386449480    15.994914619560\n",
      "\n",
      "           H         -0.268928235748    -1.906387952334     0.190160550520     1.007825032070\n",
      "\n",
      "\n",
      "\n",
      "  Running in c1 symmetry.\n",
      "\n",
      "\n",
      "\n",
      "  Rotational constants: A =      1.19639  B =      0.31014  C =      0.27136 [cm^-1]\n",
      "\n",
      "  Rotational constants: A =  35866.92932  B =   9297.74675  C =   8135.03541 [MHz]\n",
      "\n",
      "  Nuclear repulsion =   81.804973313181932\n",
      "\n",
      "\n",
      "\n",
      "  Charge       = 0\n",
      "\n",
      "  Multiplicity = 1\n",
      "\n",
      "  Electrons    = 26\n",
      "\n",
      "  Nalpha       = 13\n",
      "\n",
      "  Nbeta        = 13\n",
      "\n",
      "\n",
      "\n",
      "  ==> Algorithm <==\n",
      "\n",
      "\n",
      "\n",
      "  SCF Algorithm Type is DF.\n",
      "\n",
      "  DIIS enabled.\n",
      "\n",
      "  MOM disabled.\n",
      "\n",
      "  Fractional occupation disabled.\n",
      "\n",
      "  Guess Type is SAD.\n",
      "\n",
      "  Energy threshold   = 1.00e-06\n",
      "\n",
      "  Density threshold  = 1.00e-06\n",
      "\n",
      "  Integral threshold = 0.00e+00\n",
      "\n",
      "\n",
      "\n",
      "  ==> Primary Basis <==\n",
      "\n",
      "\n",
      "\n",
      "  Basis Set: CC-PVDZ\n",
      "\n",
      "    Blend: CC-PVDZ\n",
      "\n",
      "    Number of shells: 36\n",
      "\n",
      "    Number of basis function: 72\n",
      "\n",
      "    Number of Cartesian functions: 75\n",
      "\n",
      "    Spherical Harmonics?: true\n",
      "\n",
      "    Max angular momentum: 2\n",
      "\n",
      "\n",
      "\n",
      "   => Loading Basis Set <=\n",
      "\n",
      "\n",
      "\n",
      "    Name: (CC-PVDZ AUX)\n",
      "\n",
      "    Role: JKFIT\n",
      "\n",
      "    Keyword: DF_BASIS_SCF\n",
      "\n",
      "    atoms 1, 3-4, 6-7, 9 entry H          line    50 file /Users/armcdona/psi4conda/share/psi4/basis/cc-pvdz-jkfit.gbs \n",
      "\n",
      "    atoms 2, 5           entry C          line   120 file /Users/armcdona/psi4conda/share/psi4/basis/cc-pvdz-jkfit.gbs \n",
      "\n",
      "    atoms 8              entry O          line   220 file /Users/armcdona/psi4conda/share/psi4/basis/cc-pvdz-jkfit.gbs \n",
      "\n",
      "\n",
      "\n",
      "  ==> Pre-Iterations <==\n",
      "\n",
      "\n",
      "\n",
      "   -------------------------------------------------------\n",
      "\n",
      "    Irrep   Nso     Nmo     Nalpha   Nbeta   Ndocc  Nsocc\n",
      "\n",
      "   -------------------------------------------------------\n",
      "\n",
      "     A         72      72       0       0       0       0\n",
      "\n",
      "   -------------------------------------------------------\n",
      "\n",
      "    Total      72      72      13      13      13       0\n",
      "\n",
      "   -------------------------------------------------------\n",
      "\n",
      "\n",
      "\n",
      "  ==> Integral Setup <==\n",
      "\n",
      "\n",
      "\n",
      "  ==> DFJK: Density-Fitted J/K Matrices <==\n",
      "\n",
      "\n",
      "\n",
      "    J tasked:                  Yes\n",
      "\n",
      "    K tasked:                  Yes\n",
      "\n",
      "    wK tasked:                  No\n",
      "\n",
      "    OpenMP threads:              1\n",
      "\n",
      "    Integrals threads:           1\n",
      "\n",
      "    Memory (MB):               375\n",
      "\n",
      "    Algorithm:                Core\n",
      "\n",
      "    Integral Cache:           NONE\n",
      "\n",
      "    Schwarz Cutoff:          1E-12\n",
      "\n",
      "    Fitting Condition:       1E-12\n",
      "\n",
      "\n",
      "\n",
      "   => Auxiliary Basis Set <=\n",
      "\n",
      "\n",
      "\n",
      "  Basis Set: (CC-PVDZ AUX)\n",
      "\n",
      "    Blend: CC-PVDZ-JKFIT\n",
      "\n",
      "    Number of shells: 126\n",
      "\n",
      "    Number of basis function: 348\n",
      "\n",
      "    Number of Cartesian functions: 393\n",
      "\n",
      "    Spherical Harmonics?: true\n",
      "\n",
      "    Max angular momentum: 3\n",
      "\n",
      "\n",
      "\n",
      "  Minimum eigenvalue in the overlap matrix is 6.1615207161E-03.\n",
      "\n",
      "  Using Symmetric Orthogonalization.\n",
      "\n",
      "\n",
      "\n",
      "  SCF Guess: Superposition of Atomic Densities via on-the-fly atomic UHF.\n",
      "\n",
      "\n",
      "\n",
      "  ==> Iterations <==\n",
      "\n",
      "\n",
      "\n",
      "                           Total Energy        Delta E     RMS |[F,P]|\n",
      "\n",
      "\n",
      "\n",
      "   @DF-RHF iter   0:  -155.10365249375823   -1.55104e+02   4.53015e-02 \n",
      "\n",
      "   @DF-RHF iter   1:  -154.01069491612421    1.09296e+00   4.72706e-03 \n",
      "\n",
      "   @DF-RHF iter   2:  -154.08072318140574   -7.00283e-02   1.85857e-03 DIIS\n",
      "\n",
      "   @DF-RHF iter   3:  -154.08948719255255   -8.76401e-03   6.74889e-04 DIIS\n",
      "\n",
      "   @DF-RHF iter   4:  -154.09117177055145   -1.68458e-03   1.58963e-04 DIIS\n",
      "\n",
      "   @DF-RHF iter   5:  -154.09128893560870   -1.17165e-04   4.54749e-05 DIIS\n",
      "\n",
      "   @DF-RHF iter   6:  -154.09130079349944   -1.18579e-05   1.31995e-05 DIIS\n",
      "\n",
      "   @DF-RHF iter   7:  -154.09130170057145   -9.07072e-07   2.83994e-06 DIIS\n",
      "\n",
      "   @DF-RHF iter   8:  -154.09130176573018   -6.51587e-08   7.05545e-07 DIIS\n",
      "\n",
      "\n",
      "\n",
      "  ==> Post-Iterations <==\n",
      "\n",
      "\n",
      "\n",
      "    Orbital Energies (a.u.)\n",
      "\n",
      "    -----------------------\n",
      "\n",
      "\n",
      "\n",
      "    Doubly Occupied:                                                      \n",
      "\n",
      "\n",
      "\n",
      "       1A    -20.546800     2A    -11.275095     3A    -11.219194  \n",
      "\n",
      "       4A     -1.348904     5A     -1.008482     6A     -0.830928  \n",
      "\n",
      "       7A     -0.687787     8A     -0.642241     9A     -0.566722  \n",
      "\n",
      "      10A     -0.530314    11A     -0.519527    12A     -0.481883  \n",
      "\n",
      "      13A     -0.433845  \n",
      "\n",
      "\n",
      "\n",
      "    Virtual:                                                              \n",
      "\n",
      "\n",
      "\n",
      "      14A      0.180940    15A      0.215018    16A      0.246070  \n",
      "\n",
      "      17A      0.251127    18A      0.267963    19A      0.292938  \n",
      "\n",
      "      20A      0.381996    21A      0.396231    22A      0.603706  \n",
      "\n",
      "      23A      0.615847    24A      0.664225    25A      0.752044  \n",
      "\n",
      "      26A      0.757291    27A      0.804155    28A      0.864841  \n",
      "\n",
      "      29A      0.872855    30A      0.889502    31A      0.896591  \n",
      "\n",
      "      32A      0.907855    33A      0.940941    34A      1.131195  \n",
      "\n",
      "      35A      1.155522    36A      1.172297    37A      1.258058  \n",
      "\n",
      "      38A      1.331160    39A      1.426371    40A      1.468358  \n",
      "\n",
      "      41A      1.517174    42A      1.567678    43A      1.599506  \n",
      "\n",
      "      44A      1.691808    45A      1.783132    46A      1.866083  \n",
      "\n",
      "      47A      1.890906    48A      1.892378    49A      1.915291  \n",
      "\n",
      "      50A      1.939375    51A      1.972358    52A      1.983727  \n",
      "\n",
      "      53A      2.003589    54A      2.100718    55A      2.199911  \n",
      "\n",
      "      56A      2.243703    57A      2.282336    58A      2.316926  \n",
      "\n",
      "      59A      2.469974    60A      2.516843    61A      2.524986  \n",
      "\n",
      "      62A      2.586064    63A      2.756948    64A      2.775491  \n",
      "\n",
      "      65A      2.808122    66A      2.899507    67A      2.915802  \n",
      "\n",
      "      68A      3.330513    69A      3.407987    70A      3.474254  \n",
      "\n",
      "      71A      3.601498    72A      4.107129  \n",
      "\n",
      "\n",
      "\n",
      "    Final Occupation by Irrep:\n",
      "\n",
      "              A \n",
      "\n",
      "    DOCC [    13 ]\n",
      "\n",
      "\n",
      "\n",
      "  Energy converged.\n",
      "\n",
      "\n",
      "\n",
      "  @DF-RHF Final Energy:  -154.09130176573018\n",
      "\n",
      "\n",
      "\n",
      "   => Energetics <=\n",
      "\n",
      "\n",
      "\n",
      "    Nuclear Repulsion Energy =             81.8049733131819323\n",
      "\n",
      "    One-Electron Energy =                -371.6091065733360210\n",
      "\n",
      "    Two-Electron Energy =                 135.7128314944239378\n",
      "\n",
      "    DFT Exchange-Correlation Energy =       0.0000000000000000\n",
      "\n",
      "    Empirical Dispersion Energy =           0.0000000000000000\n",
      "\n",
      "    PCM Polarization Energy =               0.0000000000000000\n",
      "\n",
      "    EFP Energy =                            0.0000000000000000\n",
      "\n",
      "    Total Energy =                       -154.0913017657301793\n",
      "\n",
      "\n",
      "\n",
      "\n",
      "\n",
      "\n",
      "\n",
      "Properties will be evaluated at   0.000000,   0.000000,   0.000000 Bohr\n",
      "\n",
      "\n",
      "\n",
      "Properties computed using the SCF density matrix\n",
      "\n",
      "\n",
      "\n",
      "  Nuclear Dipole Moment: (a.u.)\n",
      "\n",
      "     X:    -0.8398      Y:     2.6103      Z:     0.5939\n",
      "\n",
      "\n",
      "\n",
      "  Electronic Dipole Moment: (a.u.)\n",
      "\n",
      "     X:     0.2905      Y:    -2.6019      Z:    -0.2054\n",
      "\n",
      "\n",
      "\n",
      "  Dipole Moment: (a.u.)\n",
      "\n",
      "     X:    -0.5493      Y:     0.0084      Z:     0.3884     Total:     0.6728\n",
      "\n",
      "\n",
      "\n",
      "  Dipole Moment: (Debye)\n",
      "\n",
      "     X:    -1.3962      Y:     0.0213      Z:     0.9873     Total:     1.7101\n",
      "\n",
      "\n",
      "\n",
      "\n",
      "\n",
      "*** tstop() called on csm-armcdona-m1 at Tue Jun 27 12:10:01 2017\n",
      "\n",
      "Module time:\n",
      "\n",
      "\tuser time   =       1.10 seconds =       0.02 minutes\n",
      "\n",
      "\tsystem time =       0.06 seconds =       0.00 minutes\n",
      "\n",
      "\ttotal time  =          1 seconds =       0.02 minutes\n",
      "\n",
      "Total time:\n",
      "\n",
      "\tuser time   =       1.10 seconds =       0.02 minutes\n",
      "\n",
      "\tsystem time =       0.06 seconds =       0.00 minutes\n",
      "\n",
      "\ttotal time  =          1 seconds =       0.02 minutes\n",
      "\n",
      "\n",
      "\n",
      "*** Psi4 exiting successfully. Buy a developer a beer!\n",
      "\n"
     ]
    }
   ],
   "source": [
    "for line in data:\n",
    "    print(line)"
   ]
  },
  {
   "cell_type": "code",
   "execution_count": 32,
   "id": "522296f1",
   "metadata": {},
   "outputs": [
    {
     "name": "stdout",
     "output_type": "stream",
     "text": [
      "  @DF-RHF Final Energy:  -154.09130176573018\n",
      "\n"
     ]
    }
   ],
   "source": [
    "for line in data:\n",
    "    if 'Final Energy' in line:\n",
    "        energy_line = line\n",
    "        print(energy_line)"
   ]
  },
  {
   "cell_type": "code",
   "execution_count": 33,
   "id": "31133c05",
   "metadata": {},
   "outputs": [
    {
     "data": {
      "text/plain": [
       "['@DF-RHF', 'Final', 'Energy:', '-154.09130176573018']"
      ]
     },
     "execution_count": 33,
     "metadata": {},
     "output_type": "execute_result"
    }
   ],
   "source": [
    "energy_line.split()"
   ]
  },
  {
   "cell_type": "code",
   "execution_count": 34,
   "id": "b01c4f5b",
   "metadata": {},
   "outputs": [
    {
     "data": {
      "text/plain": [
       "['  @DF-RHF Final Energy', '  -154.09130176573018\\n']"
      ]
     },
     "execution_count": 34,
     "metadata": {},
     "output_type": "execute_result"
    }
   ],
   "source": [
    "energy_line.split(':')"
   ]
  },
  {
   "cell_type": "code",
   "execution_count": 35,
   "id": "085cd593",
   "metadata": {},
   "outputs": [
    {
     "name": "stdout",
     "output_type": "stream",
     "text": [
      "['@DF-RHF', 'Final', 'Energy:', '-154.09130176573018']\n"
     ]
    }
   ],
   "source": [
    "words = energy_line.split()\n",
    "print(words)"
   ]
  },
  {
   "cell_type": "code",
   "execution_count": 36,
   "id": "d3b56a20",
   "metadata": {},
   "outputs": [
    {
     "name": "stdout",
     "output_type": "stream",
     "text": [
      "-154.09130176573018\n"
     ]
    }
   ],
   "source": [
    "energy = words[3]\n",
    "print(energy)"
   ]
  },
  {
   "cell_type": "code",
   "execution_count": 37,
   "id": "e2bc6e1b",
   "metadata": {},
   "outputs": [
    {
     "name": "stdout",
     "output_type": "stream",
     "text": [
      "-154.09130176573018\n"
     ]
    }
   ],
   "source": [
    "energy = words[-1]\n",
    "print(energy)"
   ]
  },
  {
   "cell_type": "code",
   "execution_count": 38,
   "id": "e240c50a",
   "metadata": {},
   "outputs": [
    {
     "ename": "TypeError",
     "evalue": "can only concatenate str (not \"int\") to str",
     "output_type": "error",
     "traceback": [
      "\u001b[0;31m---------------------------------------------------------------------------\u001b[0m",
      "\u001b[0;31mTypeError\u001b[0m                                 Traceback (most recent call last)",
      "\u001b[0;32m<ipython-input-38-7bda8dd3f95d>\u001b[0m in \u001b[0;36m<module>\u001b[0;34m\u001b[0m\n\u001b[0;32m----> 1\u001b[0;31m \u001b[0menergy\u001b[0m \u001b[0;34m+\u001b[0m \u001b[0;36m50\u001b[0m\u001b[0;34m\u001b[0m\u001b[0;34m\u001b[0m\u001b[0m\n\u001b[0m",
      "\u001b[0;31mTypeError\u001b[0m: can only concatenate str (not \"int\") to str"
     ]
    }
   ],
   "source": [
    "energy + 50"
   ]
  },
  {
   "cell_type": "code",
   "execution_count": 39,
   "id": "2489ad1c",
   "metadata": {},
   "outputs": [],
   "source": [
    "energy = float(energy)"
   ]
  },
  {
   "cell_type": "code",
   "execution_count": null,
   "id": "0cd6c75b",
   "metadata": {},
   "outputs": [],
   "source": []
  },
  {
   "cell_type": "code",
   "execution_count": 40,
   "id": "20dc3050",
   "metadata": {},
   "outputs": [],
   "source": [
    "energy = float(words[3])"
   ]
  },
  {
   "cell_type": "code",
   "execution_count": 41,
   "id": "f4df90c8",
   "metadata": {},
   "outputs": [
    {
     "ename": "FileNotFoundError",
     "evalue": "[Errno 2] No such file or directory: 'SAPT.out'",
     "output_type": "error",
     "traceback": [
      "\u001b[0;31m---------------------------------------------------------------------------\u001b[0m",
      "\u001b[0;31mFileNotFoundError\u001b[0m                         Traceback (most recent call last)",
      "\u001b[0;32m<ipython-input-41-07c69f260227>\u001b[0m in \u001b[0;36m<module>\u001b[0;34m\u001b[0m\n\u001b[1;32m      2\u001b[0m \u001b[0menergies\u001b[0m \u001b[0;34m=\u001b[0m \u001b[0;34m[\u001b[0m\u001b[0;34m]\u001b[0m\u001b[0;34m\u001b[0m\u001b[0;34m\u001b[0m\u001b[0m\n\u001b[1;32m      3\u001b[0m \u001b[0;34m\u001b[0m\u001b[0m\n\u001b[0;32m----> 4\u001b[0;31m \u001b[0;32mwith\u001b[0m \u001b[0mopen\u001b[0m\u001b[0;34m(\u001b[0m\u001b[0;34m'SAPT.out'\u001b[0m\u001b[0;34m,\u001b[0m\u001b[0;34m'r'\u001b[0m\u001b[0;34m)\u001b[0m \u001b[0;32mas\u001b[0m \u001b[0msaptout\u001b[0m\u001b[0;34m:\u001b[0m\u001b[0;34m\u001b[0m\u001b[0;34m\u001b[0m\u001b[0m\n\u001b[0m\u001b[1;32m      5\u001b[0m     \u001b[0;32mfor\u001b[0m \u001b[0mline\u001b[0m \u001b[0;32min\u001b[0m \u001b[0msaptout\u001b[0m\u001b[0;34m:\u001b[0m\u001b[0;34m\u001b[0m\u001b[0;34m\u001b[0m\u001b[0m\n\u001b[1;32m      6\u001b[0m         \u001b[0;32mif\u001b[0m \u001b[0;34m'Electrostatics    '\u001b[0m \u001b[0;32min\u001b[0m \u001b[0mline\u001b[0m\u001b[0;34m:\u001b[0m\u001b[0;34m\u001b[0m\u001b[0;34m\u001b[0m\u001b[0m\n",
      "\u001b[0;31mFileNotFoundError\u001b[0m: [Errno 2] No such file or directory: 'SAPT.out'"
     ]
    }
   ],
   "source": [
    "important_lines = []\n",
    "energies = []\n",
    "\n",
    "with open('SAPT.out','r') as saptout:\n",
    "    for line in saptout:\n",
    "        if 'Electrostatics    ' in line:\n",
    "            electro_line = line\n",
    "            important_lines.append(electro_line)\n",
    "        if 'Exchange       ' in line:\n",
    "            exchange_line = line\n",
    "            important_lines.append(exchange_line)\n",
    "        if 'Induction      ' in line:\n",
    "            induction_line = line\n",
    "            important_lines.append(induction_line)\n",
    "        if 'Dispersion     ' in line:\n",
    "            dispersion_line = line\n",
    "            important_lines.append(dispersion_line)\n",
    "\n",
    "# print(important_lines)\n",
    "\n",
    "for line in important_lines:\n",
    "    words = line.split()\n",
    "    # print(words)\n",
    "    energy_type = words[0]\n",
    "    energy_kcal = float(words[3])\n",
    "    energies.append(energy_kcal)\n",
    "    print('{} : {} kcal/mol'.format(energy_type, energy_kcal))\n",
    "\n",
    "total_energy = sum(energies)\n",
    "print('Total Energy : {} kcal/mol'.format(total_energy))"
   ]
  },
  {
   "cell_type": "code",
   "execution_count": 42,
   "id": "479f0088",
   "metadata": {},
   "outputs": [
    {
     "ename": "FileNotFoundError",
     "evalue": "[Errno 2] No such file or directory: 'sapt.out'",
     "output_type": "error",
     "traceback": [
      "\u001b[0;31m---------------------------------------------------------------------------\u001b[0m",
      "\u001b[0;31mFileNotFoundError\u001b[0m                         Traceback (most recent call last)",
      "\u001b[0;32m<ipython-input-42-ceef5d069f9c>\u001b[0m in \u001b[0;36m<module>\u001b[0;34m\u001b[0m\n\u001b[1;32m      2\u001b[0m \u001b[0menergies\u001b[0m \u001b[0;34m=\u001b[0m \u001b[0;34m[\u001b[0m\u001b[0;34m]\u001b[0m\u001b[0;34m\u001b[0m\u001b[0;34m\u001b[0m\u001b[0m\n\u001b[1;32m      3\u001b[0m \u001b[0;34m\u001b[0m\u001b[0m\n\u001b[0;32m----> 4\u001b[0;31m \u001b[0;32mwith\u001b[0m \u001b[0mopen\u001b[0m\u001b[0;34m(\u001b[0m\u001b[0;34m'sapt.out'\u001b[0m\u001b[0;34m,\u001b[0m\u001b[0;34m'r'\u001b[0m\u001b[0;34m)\u001b[0m \u001b[0;32mas\u001b[0m \u001b[0msaptout\u001b[0m\u001b[0;34m:\u001b[0m\u001b[0;34m\u001b[0m\u001b[0;34m\u001b[0m\u001b[0m\n\u001b[0m\u001b[1;32m      5\u001b[0m     \u001b[0;32mfor\u001b[0m \u001b[0mline\u001b[0m \u001b[0;32min\u001b[0m \u001b[0msaptout\u001b[0m\u001b[0;34m:\u001b[0m\u001b[0;34m\u001b[0m\u001b[0;34m\u001b[0m\u001b[0m\n\u001b[1;32m      6\u001b[0m         \u001b[0;32mif\u001b[0m \u001b[0;34m'Electrostatics    '\u001b[0m \u001b[0;32min\u001b[0m \u001b[0mline\u001b[0m\u001b[0;34m:\u001b[0m\u001b[0;34m\u001b[0m\u001b[0;34m\u001b[0m\u001b[0m\n",
      "\u001b[0;31mFileNotFoundError\u001b[0m: [Errno 2] No such file or directory: 'sapt.out'"
     ]
    }
   ],
   "source": [
    "important_lines = []\n",
    "energies = []\n",
    "\n",
    "with open('sapt.out','r') as saptout:\n",
    "    for line in saptout:\n",
    "        if 'Electrostatics    ' in line:\n",
    "            electro_line = line\n",
    "            important_lines.append(electro_line)\n",
    "        if 'Exchange       ' in line:\n",
    "            exchange_line = line\n",
    "            important_lines.append(exchange_line)\n",
    "        if 'Induction      ' in line:\n",
    "            induction_line = line\n",
    "            important_lines.append(induction_line)\n",
    "        if 'Dispersion     ' in line:\n",
    "            dispersion_line = line\n",
    "            important_lines.append(dispersion_line)\n",
    "\n",
    "# print(important_lines)\n",
    "\n",
    "for line in important_lines:\n",
    "    words = line.split()\n",
    "    # print(words)\n",
    "    energy_type = words[0]\n",
    "    energy_kcal = float(words[3])\n",
    "    energies.append(energy_kcal)\n",
    "    print('{} : {} kcal/mol'.format(energy_type, energy_kcal))\n",
    "\n",
    "total_energy = sum(energies)\n",
    "print('Total Energy : {} kcal/mol'.format(total_energy))"
   ]
  },
  {
   "cell_type": "code",
   "execution_count": 43,
   "id": "ff90ee30",
   "metadata": {},
   "outputs": [
    {
     "data": {
      "text/plain": [
       "'/Users/paz/Desktop/cms-workshop'"
      ]
     },
     "execution_count": 43,
     "metadata": {},
     "output_type": "execute_result"
    }
   ],
   "source": [
    "pwd"
   ]
  },
  {
   "cell_type": "code",
   "execution_count": 44,
   "id": "1a847904",
   "metadata": {},
   "outputs": [
    {
     "name": "stdout",
     "output_type": "stream",
     "text": [
      "data/sapt.out\n"
     ]
    }
   ],
   "source": [
    "import os\n",
    "\n",
    "saptout = os.path.join('data', 'sapt.out')\n",
    "print(saptout)"
   ]
  },
  {
   "cell_type": "code",
   "execution_count": 45,
   "id": "5137444b",
   "metadata": {},
   "outputs": [
    {
     "ename": "FileNotFoundError",
     "evalue": "[Errno 2] No such file or directory: 'sapt.out'",
     "output_type": "error",
     "traceback": [
      "\u001b[0;31m---------------------------------------------------------------------------\u001b[0m",
      "\u001b[0;31mFileNotFoundError\u001b[0m                         Traceback (most recent call last)",
      "\u001b[0;32m<ipython-input-45-ceef5d069f9c>\u001b[0m in \u001b[0;36m<module>\u001b[0;34m\u001b[0m\n\u001b[1;32m      2\u001b[0m \u001b[0menergies\u001b[0m \u001b[0;34m=\u001b[0m \u001b[0;34m[\u001b[0m\u001b[0;34m]\u001b[0m\u001b[0;34m\u001b[0m\u001b[0;34m\u001b[0m\u001b[0m\n\u001b[1;32m      3\u001b[0m \u001b[0;34m\u001b[0m\u001b[0m\n\u001b[0;32m----> 4\u001b[0;31m \u001b[0;32mwith\u001b[0m \u001b[0mopen\u001b[0m\u001b[0;34m(\u001b[0m\u001b[0;34m'sapt.out'\u001b[0m\u001b[0;34m,\u001b[0m\u001b[0;34m'r'\u001b[0m\u001b[0;34m)\u001b[0m \u001b[0;32mas\u001b[0m \u001b[0msaptout\u001b[0m\u001b[0;34m:\u001b[0m\u001b[0;34m\u001b[0m\u001b[0;34m\u001b[0m\u001b[0m\n\u001b[0m\u001b[1;32m      5\u001b[0m     \u001b[0;32mfor\u001b[0m \u001b[0mline\u001b[0m \u001b[0;32min\u001b[0m \u001b[0msaptout\u001b[0m\u001b[0;34m:\u001b[0m\u001b[0;34m\u001b[0m\u001b[0;34m\u001b[0m\u001b[0m\n\u001b[1;32m      6\u001b[0m         \u001b[0;32mif\u001b[0m \u001b[0;34m'Electrostatics    '\u001b[0m \u001b[0;32min\u001b[0m \u001b[0mline\u001b[0m\u001b[0;34m:\u001b[0m\u001b[0;34m\u001b[0m\u001b[0;34m\u001b[0m\u001b[0m\n",
      "\u001b[0;31mFileNotFoundError\u001b[0m: [Errno 2] No such file or directory: 'sapt.out'"
     ]
    }
   ],
   "source": [
    "important_lines = []\n",
    "energies = []\n",
    "\n",
    "with open('sapt.out','r') as saptout:\n",
    "    for line in saptout:\n",
    "        if 'Electrostatics    ' in line:\n",
    "            electro_line = line\n",
    "            important_lines.append(electro_line)\n",
    "        if 'Exchange       ' in line:\n",
    "            exchange_line = line\n",
    "            important_lines.append(exchange_line)\n",
    "        if 'Induction      ' in line:\n",
    "            induction_line = line\n",
    "            important_lines.append(induction_line)\n",
    "        if 'Dispersion     ' in line:\n",
    "            dispersion_line = line\n",
    "            important_lines.append(dispersion_line)\n",
    "\n",
    "# print(important_lines)\n",
    "\n",
    "for line in important_lines:\n",
    "    words = line.split()\n",
    "    # print(words)\n",
    "    energy_type = words[0]\n",
    "    energy_kcal = float(words[3])\n",
    "    energies.append(energy_kcal)\n",
    "    print('{} : {} kcal/mol'.format(energy_type, energy_kcal))\n",
    "\n",
    "total_energy = sum(energies)\n",
    "print('Total Energy : {} kcal/mol'.format(total_energy))"
   ]
  },
  {
   "cell_type": "code",
   "execution_count": 46,
   "id": "a97d1eba",
   "metadata": {},
   "outputs": [
    {
     "ename": "FileNotFoundError",
     "evalue": "[Errno 2] No such file or directory: 'SAPT.out'",
     "output_type": "error",
     "traceback": [
      "\u001b[0;31m---------------------------------------------------------------------------\u001b[0m",
      "\u001b[0;31mFileNotFoundError\u001b[0m                         Traceback (most recent call last)",
      "\u001b[0;32m<ipython-input-46-07c69f260227>\u001b[0m in \u001b[0;36m<module>\u001b[0;34m\u001b[0m\n\u001b[1;32m      2\u001b[0m \u001b[0menergies\u001b[0m \u001b[0;34m=\u001b[0m \u001b[0;34m[\u001b[0m\u001b[0;34m]\u001b[0m\u001b[0;34m\u001b[0m\u001b[0;34m\u001b[0m\u001b[0m\n\u001b[1;32m      3\u001b[0m \u001b[0;34m\u001b[0m\u001b[0m\n\u001b[0;32m----> 4\u001b[0;31m \u001b[0;32mwith\u001b[0m \u001b[0mopen\u001b[0m\u001b[0;34m(\u001b[0m\u001b[0;34m'SAPT.out'\u001b[0m\u001b[0;34m,\u001b[0m\u001b[0;34m'r'\u001b[0m\u001b[0;34m)\u001b[0m \u001b[0;32mas\u001b[0m \u001b[0msaptout\u001b[0m\u001b[0;34m:\u001b[0m\u001b[0;34m\u001b[0m\u001b[0;34m\u001b[0m\u001b[0m\n\u001b[0m\u001b[1;32m      5\u001b[0m     \u001b[0;32mfor\u001b[0m \u001b[0mline\u001b[0m \u001b[0;32min\u001b[0m \u001b[0msaptout\u001b[0m\u001b[0;34m:\u001b[0m\u001b[0;34m\u001b[0m\u001b[0;34m\u001b[0m\u001b[0m\n\u001b[1;32m      6\u001b[0m         \u001b[0;32mif\u001b[0m \u001b[0;34m'Electrostatics    '\u001b[0m \u001b[0;32min\u001b[0m \u001b[0mline\u001b[0m\u001b[0;34m:\u001b[0m\u001b[0;34m\u001b[0m\u001b[0;34m\u001b[0m\u001b[0m\n",
      "\u001b[0;31mFileNotFoundError\u001b[0m: [Errno 2] No such file or directory: 'SAPT.out'"
     ]
    }
   ],
   "source": [
    "important_lines = []\n",
    "energies = []\n",
    "\n",
    "with open('SAPT.out','r') as saptout:\n",
    "    for line in saptout:\n",
    "        if 'Electrostatics    ' in line:\n",
    "            electro_line = line\n",
    "            important_lines.append(electro_line)\n",
    "        if 'Exchange       ' in line:\n",
    "            exchange_line = line\n",
    "            important_lines.append(exchange_line)\n",
    "        if 'Induction      ' in line:\n",
    "            induction_line = line\n",
    "            important_lines.append(induction_line)\n",
    "        if 'Dispersion     ' in line:\n",
    "            dispersion_line = line\n",
    "            important_lines.append(dispersion_line)\n",
    "\n",
    "# print(important_lines)\n",
    "\n",
    "for line in important_lines:\n",
    "    words = line.split()\n",
    "    # print(words)\n",
    "    energy_type = words[0]\n",
    "    energy_kcal = float(words[3])\n",
    "    energies.append(energy_kcal)\n",
    "    print('{} : {} kcal/mol'.format(energy_type, energy_kcal))\n",
    "\n",
    "total_energy = sum(energies)\n",
    "print('Total Energy : {} kcal/mol'.format(total_energy))"
   ]
  },
  {
   "cell_type": "code",
   "execution_count": 47,
   "id": "0c400472",
   "metadata": {},
   "outputs": [
    {
     "data": {
      "text/plain": [
       "'/Users/paz/Desktop/cms-workshop'"
      ]
     },
     "execution_count": 47,
     "metadata": {},
     "output_type": "execute_result"
    }
   ],
   "source": [
    "pwd"
   ]
  },
  {
   "cell_type": "code",
   "execution_count": 48,
   "id": "285dc28e",
   "metadata": {},
   "outputs": [
    {
     "name": "stdout",
     "output_type": "stream",
     "text": [
      "cms-workshop/data/sapt.out\n"
     ]
    }
   ],
   "source": [
    "import os\n",
    "\n",
    "saptout = os.path.join('cms-workshop', 'data', 'sapt.out')\n",
    "print(saptout)"
   ]
  },
  {
   "cell_type": "code",
   "execution_count": 49,
   "id": "1cba5eeb",
   "metadata": {},
   "outputs": [
    {
     "ename": "FileNotFoundError",
     "evalue": "[Errno 2] No such file or directory: 'SAPT.out'",
     "output_type": "error",
     "traceback": [
      "\u001b[0;31m---------------------------------------------------------------------------\u001b[0m",
      "\u001b[0;31mFileNotFoundError\u001b[0m                         Traceback (most recent call last)",
      "\u001b[0;32m<ipython-input-49-07c69f260227>\u001b[0m in \u001b[0;36m<module>\u001b[0;34m\u001b[0m\n\u001b[1;32m      2\u001b[0m \u001b[0menergies\u001b[0m \u001b[0;34m=\u001b[0m \u001b[0;34m[\u001b[0m\u001b[0;34m]\u001b[0m\u001b[0;34m\u001b[0m\u001b[0;34m\u001b[0m\u001b[0m\n\u001b[1;32m      3\u001b[0m \u001b[0;34m\u001b[0m\u001b[0m\n\u001b[0;32m----> 4\u001b[0;31m \u001b[0;32mwith\u001b[0m \u001b[0mopen\u001b[0m\u001b[0;34m(\u001b[0m\u001b[0;34m'SAPT.out'\u001b[0m\u001b[0;34m,\u001b[0m\u001b[0;34m'r'\u001b[0m\u001b[0;34m)\u001b[0m \u001b[0;32mas\u001b[0m \u001b[0msaptout\u001b[0m\u001b[0;34m:\u001b[0m\u001b[0;34m\u001b[0m\u001b[0;34m\u001b[0m\u001b[0m\n\u001b[0m\u001b[1;32m      5\u001b[0m     \u001b[0;32mfor\u001b[0m \u001b[0mline\u001b[0m \u001b[0;32min\u001b[0m \u001b[0msaptout\u001b[0m\u001b[0;34m:\u001b[0m\u001b[0;34m\u001b[0m\u001b[0;34m\u001b[0m\u001b[0m\n\u001b[1;32m      6\u001b[0m         \u001b[0;32mif\u001b[0m \u001b[0;34m'Electrostatics    '\u001b[0m \u001b[0;32min\u001b[0m \u001b[0mline\u001b[0m\u001b[0;34m:\u001b[0m\u001b[0;34m\u001b[0m\u001b[0;34m\u001b[0m\u001b[0m\n",
      "\u001b[0;31mFileNotFoundError\u001b[0m: [Errno 2] No such file or directory: 'SAPT.out'"
     ]
    }
   ],
   "source": [
    "important_lines = []\n",
    "energies = []\n",
    "\n",
    "with open('SAPT.out','r') as saptout:\n",
    "    for line in saptout:\n",
    "        if 'Electrostatics    ' in line:\n",
    "            electro_line = line\n",
    "            important_lines.append(electro_line)\n",
    "        if 'Exchange       ' in line:\n",
    "            exchange_line = line\n",
    "            important_lines.append(exchange_line)\n",
    "        if 'Induction      ' in line:\n",
    "            induction_line = line\n",
    "            important_lines.append(induction_line)\n",
    "        if 'Dispersion     ' in line:\n",
    "            dispersion_line = line\n",
    "            important_lines.append(dispersion_line)\n",
    "\n",
    "# print(important_lines)\n",
    "\n",
    "for line in important_lines:\n",
    "    words = line.split()\n",
    "    # print(words)\n",
    "    energy_type = words[0]\n",
    "    energy_kcal = float(words[3])\n",
    "    energies.append(energy_kcal)\n",
    "    print('{} : {} kcal/mol'.format(energy_type, energy_kcal))\n",
    "\n",
    "total_energy = sum(energies)\n",
    "print('Total Energy : {} kcal/mol'.format(total_energy))"
   ]
  },
  {
   "cell_type": "code",
   "execution_count": 50,
   "id": "94b1adbe",
   "metadata": {},
   "outputs": [
    {
     "ename": "FileNotFoundError",
     "evalue": "[Errno 2] No such file or directory: 'sapt.out'",
     "output_type": "error",
     "traceback": [
      "\u001b[0;31m---------------------------------------------------------------------------\u001b[0m",
      "\u001b[0;31mFileNotFoundError\u001b[0m                         Traceback (most recent call last)",
      "\u001b[0;32m<ipython-input-50-ceef5d069f9c>\u001b[0m in \u001b[0;36m<module>\u001b[0;34m\u001b[0m\n\u001b[1;32m      2\u001b[0m \u001b[0menergies\u001b[0m \u001b[0;34m=\u001b[0m \u001b[0;34m[\u001b[0m\u001b[0;34m]\u001b[0m\u001b[0;34m\u001b[0m\u001b[0;34m\u001b[0m\u001b[0m\n\u001b[1;32m      3\u001b[0m \u001b[0;34m\u001b[0m\u001b[0m\n\u001b[0;32m----> 4\u001b[0;31m \u001b[0;32mwith\u001b[0m \u001b[0mopen\u001b[0m\u001b[0;34m(\u001b[0m\u001b[0;34m'sapt.out'\u001b[0m\u001b[0;34m,\u001b[0m\u001b[0;34m'r'\u001b[0m\u001b[0;34m)\u001b[0m \u001b[0;32mas\u001b[0m \u001b[0msaptout\u001b[0m\u001b[0;34m:\u001b[0m\u001b[0;34m\u001b[0m\u001b[0;34m\u001b[0m\u001b[0m\n\u001b[0m\u001b[1;32m      5\u001b[0m     \u001b[0;32mfor\u001b[0m \u001b[0mline\u001b[0m \u001b[0;32min\u001b[0m \u001b[0msaptout\u001b[0m\u001b[0;34m:\u001b[0m\u001b[0;34m\u001b[0m\u001b[0;34m\u001b[0m\u001b[0m\n\u001b[1;32m      6\u001b[0m         \u001b[0;32mif\u001b[0m \u001b[0;34m'Electrostatics    '\u001b[0m \u001b[0;32min\u001b[0m \u001b[0mline\u001b[0m\u001b[0;34m:\u001b[0m\u001b[0;34m\u001b[0m\u001b[0;34m\u001b[0m\u001b[0m\n",
      "\u001b[0;31mFileNotFoundError\u001b[0m: [Errno 2] No such file or directory: 'sapt.out'"
     ]
    }
   ],
   "source": [
    "important_lines = []\n",
    "energies = []\n",
    "\n",
    "with open('sapt.out','r') as saptout:\n",
    "    for line in saptout:\n",
    "        if 'Electrostatics    ' in line:\n",
    "            electro_line = line\n",
    "            important_lines.append(electro_line)\n",
    "        if 'Exchange       ' in line:\n",
    "            exchange_line = line\n",
    "            important_lines.append(exchange_line)\n",
    "        if 'Induction      ' in line:\n",
    "            induction_line = line\n",
    "            important_lines.append(induction_line)\n",
    "        if 'Dispersion     ' in line:\n",
    "            dispersion_line = line\n",
    "            important_lines.append(dispersion_line)\n",
    "\n",
    "# print(important_lines)\n",
    "\n",
    "for line in important_lines:\n",
    "    words = line.split()\n",
    "    # print(words)\n",
    "    energy_type = words[0]\n",
    "    energy_kcal = float(words[3])\n",
    "    energies.append(energy_kcal)\n",
    "    print('{} : {} kcal/mol'.format(energy_type, energy_kcal))\n",
    "\n",
    "total_energy = sum(energies)\n",
    "print('Total Energy : {} kcal/mol'.format(total_energy))"
   ]
  },
  {
   "cell_type": "code",
   "execution_count": 51,
   "id": "56e15298",
   "metadata": {},
   "outputs": [
    {
     "name": "stdout",
     "output_type": "stream",
     "text": [
      "77\n",
      "       Center              X                  Y                   Z               Mass       \n",
      "\n"
     ]
    }
   ],
   "source": [
    "for linenum, line in enumerate(data):\n",
    "    if 'Center' in line:\n",
    "        print(linenum)\n",
    "        print(line)"
   ]
  },
  {
   "cell_type": "code",
   "execution_count": 52,
   "id": "770a196a",
   "metadata": {},
   "outputs": [
    {
     "name": "stdout",
     "output_type": "stream",
     "text": [
      "       Center              X                  Y                   Z               Mass       \n",
      "\n",
      "    ------------   -----------------  -----------------  -----------------  -----------------\n",
      "\n",
      "           H          0.278612764252     1.265047047666    -1.274211449480     1.007825032070\n",
      "\n",
      "           C          0.253854764252     1.255132047666    -0.179502449480    12.000000000000\n",
      "\n",
      "           H          1.294208764252     1.265046047666     0.162059550520     1.007825032070\n",
      "\n"
     ]
    }
   ],
   "source": [
    "print(data[77])\n",
    "print(data[78])\n",
    "print(data[79])\n",
    "print(data[80])\n",
    "print(data[81])"
   ]
  },
  {
   "cell_type": "code",
   "execution_count": null,
   "id": "c07baefc",
   "metadata": {},
   "outputs": [],
   "source": []
  }
 ],
 "metadata": {
  "kernelspec": {
   "display_name": "Python 3",
   "language": "python",
   "name": "python3"
  },
  "language_info": {
   "codemirror_mode": {
    "name": "ipython",
    "version": 3
   },
   "file_extension": ".py",
   "mimetype": "text/x-python",
   "name": "python",
   "nbconvert_exporter": "python",
   "pygments_lexer": "ipython3",
   "version": "3.8.8"
  }
 },
 "nbformat": 4,
 "nbformat_minor": 5
}
